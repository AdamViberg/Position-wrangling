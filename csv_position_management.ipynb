{
 "cells": [
  {
   "cell_type": "code",
   "execution_count": 664,
   "id": "1712db58-4596-4355-bd78-b92612660fb7",
   "metadata": {},
   "outputs": [],
   "source": [
    "import pandas as pd\n",
    "import csv"
   ]
  },
  {
   "cell_type": "code",
   "execution_count": 665,
   "id": "6b87aaf2-3e52-444f-92d0-d4902d293494",
   "metadata": {},
   "outputs": [
    {
     "name": "stdout",
     "output_type": "stream",
     "text": [
      "Dates    isin1 isin2 isis3 isin4 isin5\n",
      "20220131    42    33    62    99    80\n",
      "20220228    91    81    61    85     6\n",
      "20220331    28     4     6    43    45\n",
      "20220430    20    72    98    86    42\n",
      "20220531    55    70    85    31    47\n"
     ]
    }
   ],
   "source": [
    "df = pd.read_csv(\"data.csv\")\n",
    "\n",
    "#Transpose dataframe so that securities are at the top as columns and values underneath with the dates as index\n",
    "df = df.T\n",
    "\n",
    "#Remove column names and replace with first row\n",
    "new_header = df.iloc[0]\n",
    "df = df[1:]\n",
    "df.columns = new_header\n",
    "\n",
    "#Rename the index column\n",
    "df = df.rename_axis('Dates', axis='columns')\n",
    "\n",
    "print(df[0:5])"
   ]
  },
  {
   "cell_type": "code",
   "execution_count": 666,
   "id": "cd3687cb-88b8-489a-a8d3-1c7953a8550e",
   "metadata": {},
   "outputs": [
    {
     "name": "stdout",
     "output_type": "stream",
     "text": [
      "['20220131,isin1,42' '20220131,isin2,33' '20220131,isis3,62'\n",
      " '20220131,isin4,99' '20220131,isin5,80']\n"
     ]
    }
   ],
   "source": [
    "#Concatenate the index and column value inside each value in the dataframe\n",
    "df = df.astype(str).apply(lambda x : x.name+','+x)\n",
    "df = df.astype(str).apply(lambda x : x.index+','+x)\n",
    "\n",
    "#Take all values inside the dataframe as an array\n",
    "df_values = df.values\n",
    "print(df_values[0])"
   ]
  },
  {
   "cell_type": "code",
   "execution_count": 667,
   "id": "510a4730-8e89-4291-8b81-21df467def4a",
   "metadata": {},
   "outputs": [],
   "source": [
    "#Loop through the array to nullify it as an array and append to df_list \n",
    "df_list = []\n",
    "\n",
    "for items in df_values:\n",
    "    for y in items:\n",
    "        df_list.append(y)\n",
    "\n",
    "#convert list to a series for easier exporting to CSV\n",
    "df_series = pd.Series(df_list)"
   ]
  },
  {
   "cell_type": "code",
   "execution_count": 668,
   "id": "418cd973-625c-41ac-967a-00fc4a270775",
   "metadata": {},
   "outputs": [
    {
     "data": {
      "text/plain": [
       "0     20220131,isin1,42\n",
       "1     20220131,isin2,33\n",
       "2     20220131,isis3,62\n",
       "3     20220131,isin4,99\n",
       "4     20220131,isin5,80\n",
       "5     20220228,isin1,91\n",
       "6     20220228,isin2,81\n",
       "7     20220228,isis3,61\n",
       "8     20220228,isin4,85\n",
       "9      20220228,isin5,6\n",
       "10    20220331,isin1,28\n",
       "11     20220331,isin2,4\n",
       "12     20220331,isis3,6\n",
       "13    20220331,isin4,43\n",
       "14    20220331,isin5,45\n",
       "15    20220430,isin1,20\n",
       "16    20220430,isin2,72\n",
       "17    20220430,isis3,98\n",
       "18    20220430,isin4,86\n",
       "19    20220430,isin5,42\n",
       "20    20220531,isin1,55\n",
       "21    20220531,isin2,70\n",
       "22    20220531,isis3,85\n",
       "23    20220531,isin4,31\n",
       "24    20220531,isin5,47\n",
       "25    20220630,isin1,47\n",
       "26    20220630,isin2,34\n",
       "27    20220630,isis3,24\n",
       "28    20220630,isin4,22\n",
       "29    20220630,isin5,48\n",
       "30    20220731,isin1,38\n",
       "31    20220731,isin2,93\n",
       "32    20220731,isis3,51\n",
       "33    20220731,isin4,37\n",
       "34    20220731,isin5,74\n",
       "dtype: object"
      ]
     },
     "execution_count": 668,
     "metadata": {},
     "output_type": "execute_result"
    }
   ],
   "source": [
    "#Export to CSV\n",
    "df_series.to_csv(\"portfolio_positions.csv\")\n",
    "df_series"
   ]
  },
  {
   "cell_type": "code",
   "execution_count": null,
   "id": "bc750739-4c04-4aca-a1f5-c695598ce08f",
   "metadata": {},
   "outputs": [],
   "source": []
  },
  {
   "cell_type": "code",
   "execution_count": null,
   "id": "53d9d570-31db-4701-8deb-8b4141553bc5",
   "metadata": {},
   "outputs": [],
   "source": []
  }
 ],
 "metadata": {
  "kernelspec": {
   "display_name": "Python 3 (ipykernel)",
   "language": "python",
   "name": "python3"
  },
  "language_info": {
   "codemirror_mode": {
    "name": "ipython",
    "version": 3
   },
   "file_extension": ".py",
   "mimetype": "text/x-python",
   "name": "python",
   "nbconvert_exporter": "python",
   "pygments_lexer": "ipython3",
   "version": "3.9.7"
  }
 },
 "nbformat": 4,
 "nbformat_minor": 5
}
